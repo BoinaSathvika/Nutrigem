{
 "cells": [
  {
   "cell_type": "code",
   "execution_count": 232,
   "id": "24ffad83",
   "metadata": {},
   "outputs": [],
   "source": [
    "import pandas as pd\n",
    "import seaborn as sns\n",
    "import numpy as np\n",
    "import matplotlib.pyplot as plt\n",
    "import os"
   ]
  },
  {
   "cell_type": "code",
   "execution_count": 233,
   "id": "d3f3f70b",
   "metadata": {},
   "outputs": [],
   "source": [
    "df=pd.read_csv(r\"C:\\Users\\boina\\OneDrive\\Desktop\\sb\\Nutrient Composition Dataset.csv\")"
   ]
  },
  {
   "cell_type": "code",
   "execution_count": 234,
   "id": "03d5a118",
   "metadata": {},
   "outputs": [
    {
     "data": {
      "text/html": [
       "<div>\n",
       "<style scoped>\n",
       "    .dataframe tbody tr th:only-of-type {\n",
       "        vertical-align: middle;\n",
       "    }\n",
       "\n",
       "    .dataframe tbody tr th {\n",
       "        vertical-align: top;\n",
       "    }\n",
       "\n",
       "    .dataframe thead th {\n",
       "        text-align: right;\n",
       "    }\n",
       "</style>\n",
       "<table border=\"1\" class=\"dataframe\">\n",
       "  <thead>\n",
       "    <tr style=\"text-align: right;\">\n",
       "      <th></th>\n",
       "      <th>S.No</th>\n",
       "      <th>Protein</th>\n",
       "      <th>Fat</th>\n",
       "      <th>vitaminC</th>\n",
       "      <th>Fibre</th>\n",
       "      <th>Product</th>\n",
       "    </tr>\n",
       "  </thead>\n",
       "  <tbody>\n",
       "    <tr>\n",
       "      <th>0</th>\n",
       "      <td>1</td>\n",
       "      <td>0.452369</td>\n",
       "      <td>1.170926</td>\n",
       "      <td>1.079271</td>\n",
       "      <td>1.702960</td>\n",
       "      <td>Amaranth leaves, cooked, boiled, drained, with...</td>\n",
       "    </tr>\n",
       "    <tr>\n",
       "      <th>1</th>\n",
       "      <td>2</td>\n",
       "      <td>2.321087</td>\n",
       "      <td>0.706856</td>\n",
       "      <td>0.350088</td>\n",
       "      <td>0.658249</td>\n",
       "      <td>Bacon and beef sticks</td>\n",
       "    </tr>\n",
       "    <tr>\n",
       "      <th>2</th>\n",
       "      <td>3</td>\n",
       "      <td>0.884554</td>\n",
       "      <td>1.186571</td>\n",
       "      <td>2.428544</td>\n",
       "      <td>1.984562</td>\n",
       "      <td>Apples, frozen, unsweetened, unheated (Include...</td>\n",
       "    </tr>\n",
       "    <tr>\n",
       "      <th>3</th>\n",
       "      <td>4</td>\n",
       "      <td>0.715501</td>\n",
       "      <td>0.577599</td>\n",
       "      <td>0.270925</td>\n",
       "      <td>0.369266</td>\n",
       "      <td>Alcoholic beverage, beer, light, BUD LIGHT</td>\n",
       "    </tr>\n",
       "    <tr>\n",
       "      <th>4</th>\n",
       "      <td>5</td>\n",
       "      <td>0.132610</td>\n",
       "      <td>0.544521</td>\n",
       "      <td>0.116884</td>\n",
       "      <td>0.557309</td>\n",
       "      <td>Alcoholic beverage, daiquiri, canned</td>\n",
       "    </tr>\n",
       "  </tbody>\n",
       "</table>\n",
       "</div>"
      ],
      "text/plain": [
       "   S.No   Protein       Fat  vitaminC     Fibre  \\\n",
       "0     1  0.452369  1.170926  1.079271  1.702960   \n",
       "1     2  2.321087  0.706856  0.350088  0.658249   \n",
       "2     3  0.884554  1.186571  2.428544  1.984562   \n",
       "3     4  0.715501  0.577599  0.270925  0.369266   \n",
       "4     5  0.132610  0.544521  0.116884  0.557309   \n",
       "\n",
       "                                             Product  \n",
       "0  Amaranth leaves, cooked, boiled, drained, with...  \n",
       "1                              Bacon and beef sticks  \n",
       "2  Apples, frozen, unsweetened, unheated (Include...  \n",
       "3         Alcoholic beverage, beer, light, BUD LIGHT  \n",
       "4               Alcoholic beverage, daiquiri, canned  "
      ]
     },
     "execution_count": 234,
     "metadata": {},
     "output_type": "execute_result"
    }
   ],
   "source": [
    "df.head()"
   ]
  },
  {
   "cell_type": "code",
   "execution_count": 215,
   "id": "8d364386",
   "metadata": {},
   "outputs": [
    {
     "data": {
      "text/plain": [
       "(1746, 6)"
      ]
     },
     "execution_count": 215,
     "metadata": {},
     "output_type": "execute_result"
    }
   ],
   "source": [
    "df.shape"
   ]
  },
  {
   "cell_type": "code",
   "execution_count": 216,
   "id": "e35662b1",
   "metadata": {},
   "outputs": [
    {
     "data": {
      "text/plain": [
       "S.No        0\n",
       "Protein     0\n",
       "Fat         0\n",
       "vitaminC    0\n",
       "Fibre       0\n",
       "Product     0\n",
       "dtype: int64"
      ]
     },
     "execution_count": 216,
     "metadata": {},
     "output_type": "execute_result"
    }
   ],
   "source": [
    "df.isnull().sum()"
   ]
  },
  {
   "cell_type": "code",
   "execution_count": 217,
   "id": "9adefdfc",
   "metadata": {},
   "outputs": [
    {
     "name": "stdout",
     "output_type": "stream",
     "text": [
      "<class 'pandas.core.frame.DataFrame'>\n",
      "RangeIndex: 1746 entries, 0 to 1745\n",
      "Data columns (total 6 columns):\n",
      " #   Column    Non-Null Count  Dtype  \n",
      "---  ------    --------------  -----  \n",
      " 0   S.No      1746 non-null   int64  \n",
      " 1   Protein   1746 non-null   float64\n",
      " 2   Fat       1746 non-null   float64\n",
      " 3   vitaminC  1746 non-null   float64\n",
      " 4   Fibre     1746 non-null   float64\n",
      " 5   Product   1746 non-null   object \n",
      "dtypes: float64(4), int64(1), object(1)\n",
      "memory usage: 82.0+ KB\n"
     ]
    }
   ],
   "source": [
    "df.info()"
   ]
  },
  {
   "cell_type": "code",
   "execution_count": 218,
   "id": "62ebdc36",
   "metadata": {},
   "outputs": [
    {
     "data": {
      "text/html": [
       "<div>\n",
       "<style scoped>\n",
       "    .dataframe tbody tr th:only-of-type {\n",
       "        vertical-align: middle;\n",
       "    }\n",
       "\n",
       "    .dataframe tbody tr th {\n",
       "        vertical-align: top;\n",
       "    }\n",
       "\n",
       "    .dataframe thead th {\n",
       "        text-align: right;\n",
       "    }\n",
       "</style>\n",
       "<table border=\"1\" class=\"dataframe\">\n",
       "  <thead>\n",
       "    <tr style=\"text-align: right;\">\n",
       "      <th></th>\n",
       "      <th>S.No</th>\n",
       "      <th>Protein</th>\n",
       "      <th>Fat</th>\n",
       "      <th>vitaminC</th>\n",
       "      <th>Fibre</th>\n",
       "    </tr>\n",
       "  </thead>\n",
       "  <tbody>\n",
       "    <tr>\n",
       "      <th>count</th>\n",
       "      <td>1746.000000</td>\n",
       "      <td>1746.000000</td>\n",
       "      <td>1746.000000</td>\n",
       "      <td>1746.000000</td>\n",
       "      <td>1746.000000</td>\n",
       "    </tr>\n",
       "    <tr>\n",
       "      <th>mean</th>\n",
       "      <td>873.500000</td>\n",
       "      <td>0.922470</td>\n",
       "      <td>0.900091</td>\n",
       "      <td>0.900146</td>\n",
       "      <td>0.900830</td>\n",
       "    </tr>\n",
       "    <tr>\n",
       "      <th>std</th>\n",
       "      <td>504.171102</td>\n",
       "      <td>0.627128</td>\n",
       "      <td>0.634617</td>\n",
       "      <td>0.623847</td>\n",
       "      <td>0.626875</td>\n",
       "    </tr>\n",
       "    <tr>\n",
       "      <th>min</th>\n",
       "      <td>1.000000</td>\n",
       "      <td>0.000128</td>\n",
       "      <td>0.000267</td>\n",
       "      <td>0.000029</td>\n",
       "      <td>0.002579</td>\n",
       "    </tr>\n",
       "    <tr>\n",
       "      <th>25%</th>\n",
       "      <td>437.250000</td>\n",
       "      <td>0.435853</td>\n",
       "      <td>0.394784</td>\n",
       "      <td>0.419103</td>\n",
       "      <td>0.389124</td>\n",
       "    </tr>\n",
       "    <tr>\n",
       "      <th>50%</th>\n",
       "      <td>873.500000</td>\n",
       "      <td>0.813025</td>\n",
       "      <td>0.804687</td>\n",
       "      <td>0.796290</td>\n",
       "      <td>0.820783</td>\n",
       "    </tr>\n",
       "    <tr>\n",
       "      <th>75%</th>\n",
       "      <td>1309.750000</td>\n",
       "      <td>1.295106</td>\n",
       "      <td>1.298988</td>\n",
       "      <td>1.280870</td>\n",
       "      <td>1.295732</td>\n",
       "    </tr>\n",
       "    <tr>\n",
       "      <th>max</th>\n",
       "      <td>1746.000000</td>\n",
       "      <td>4.016890</td>\n",
       "      <td>3.979364</td>\n",
       "      <td>4.013322</td>\n",
       "      <td>3.570331</td>\n",
       "    </tr>\n",
       "  </tbody>\n",
       "</table>\n",
       "</div>"
      ],
      "text/plain": [
       "              S.No      Protein          Fat     vitaminC        Fibre\n",
       "count  1746.000000  1746.000000  1746.000000  1746.000000  1746.000000\n",
       "mean    873.500000     0.922470     0.900091     0.900146     0.900830\n",
       "std     504.171102     0.627128     0.634617     0.623847     0.626875\n",
       "min       1.000000     0.000128     0.000267     0.000029     0.002579\n",
       "25%     437.250000     0.435853     0.394784     0.419103     0.389124\n",
       "50%     873.500000     0.813025     0.804687     0.796290     0.820783\n",
       "75%    1309.750000     1.295106     1.298988     1.280870     1.295732\n",
       "max    1746.000000     4.016890     3.979364     4.013322     3.570331"
      ]
     },
     "execution_count": 218,
     "metadata": {},
     "output_type": "execute_result"
    }
   ],
   "source": [
    "df.describe()"
   ]
  },
  {
   "cell_type": "code",
   "execution_count": 235,
   "id": "6f76b27b",
   "metadata": {},
   "outputs": [],
   "source": [
    "df=df.drop(['Product','S.No'],axis=1)"
   ]
  },
  {
   "cell_type": "code",
   "execution_count": 236,
   "id": "fd75e299",
   "metadata": {},
   "outputs": [
    {
     "data": {
      "text/html": [
       "<div>\n",
       "<style scoped>\n",
       "    .dataframe tbody tr th:only-of-type {\n",
       "        vertical-align: middle;\n",
       "    }\n",
       "\n",
       "    .dataframe tbody tr th {\n",
       "        vertical-align: top;\n",
       "    }\n",
       "\n",
       "    .dataframe thead th {\n",
       "        text-align: right;\n",
       "    }\n",
       "</style>\n",
       "<table border=\"1\" class=\"dataframe\">\n",
       "  <thead>\n",
       "    <tr style=\"text-align: right;\">\n",
       "      <th></th>\n",
       "      <th>Protein</th>\n",
       "      <th>Fat</th>\n",
       "      <th>vitaminC</th>\n",
       "      <th>Fibre</th>\n",
       "    </tr>\n",
       "  </thead>\n",
       "  <tbody>\n",
       "    <tr>\n",
       "      <th>0</th>\n",
       "      <td>0.452369</td>\n",
       "      <td>1.170926</td>\n",
       "      <td>1.079271</td>\n",
       "      <td>1.702960</td>\n",
       "    </tr>\n",
       "    <tr>\n",
       "      <th>1</th>\n",
       "      <td>2.321087</td>\n",
       "      <td>0.706856</td>\n",
       "      <td>0.350088</td>\n",
       "      <td>0.658249</td>\n",
       "    </tr>\n",
       "    <tr>\n",
       "      <th>2</th>\n",
       "      <td>0.884554</td>\n",
       "      <td>1.186571</td>\n",
       "      <td>2.428544</td>\n",
       "      <td>1.984562</td>\n",
       "    </tr>\n",
       "    <tr>\n",
       "      <th>3</th>\n",
       "      <td>0.715501</td>\n",
       "      <td>0.577599</td>\n",
       "      <td>0.270925</td>\n",
       "      <td>0.369266</td>\n",
       "    </tr>\n",
       "    <tr>\n",
       "      <th>4</th>\n",
       "      <td>0.132610</td>\n",
       "      <td>0.544521</td>\n",
       "      <td>0.116884</td>\n",
       "      <td>0.557309</td>\n",
       "    </tr>\n",
       "  </tbody>\n",
       "</table>\n",
       "</div>"
      ],
      "text/plain": [
       "    Protein       Fat  vitaminC     Fibre\n",
       "0  0.452369  1.170926  1.079271  1.702960\n",
       "1  2.321087  0.706856  0.350088  0.658249\n",
       "2  0.884554  1.186571  2.428544  1.984562\n",
       "3  0.715501  0.577599  0.270925  0.369266\n",
       "4  0.132610  0.544521  0.116884  0.557309"
      ]
     },
     "execution_count": 236,
     "metadata": {},
     "output_type": "execute_result"
    }
   ],
   "source": [
    "df.head()"
   ]
  },
  {
   "cell_type": "code",
   "execution_count": 201,
   "id": "867cab2a",
   "metadata": {},
   "outputs": [
    {
     "data": {
      "text/html": [
       "<div>\n",
       "<style scoped>\n",
       "    .dataframe tbody tr th:only-of-type {\n",
       "        vertical-align: middle;\n",
       "    }\n",
       "\n",
       "    .dataframe tbody tr th {\n",
       "        vertical-align: top;\n",
       "    }\n",
       "\n",
       "    .dataframe thead th {\n",
       "        text-align: right;\n",
       "    }\n",
       "</style>\n",
       "<table border=\"1\" class=\"dataframe\">\n",
       "  <thead>\n",
       "    <tr style=\"text-align: right;\">\n",
       "      <th></th>\n",
       "      <th>Protein</th>\n",
       "      <th>Fat</th>\n",
       "      <th>vitaminC</th>\n",
       "      <th>Fibre</th>\n",
       "    </tr>\n",
       "  </thead>\n",
       "  <tbody>\n",
       "    <tr>\n",
       "      <th>Protein</th>\n",
       "      <td>1.000000</td>\n",
       "      <td>0.382312</td>\n",
       "      <td>0.025389</td>\n",
       "      <td>0.043823</td>\n",
       "    </tr>\n",
       "    <tr>\n",
       "      <th>Fat</th>\n",
       "      <td>0.382312</td>\n",
       "      <td>1.000000</td>\n",
       "      <td>0.048272</td>\n",
       "      <td>0.068079</td>\n",
       "    </tr>\n",
       "    <tr>\n",
       "      <th>vitaminC</th>\n",
       "      <td>0.025389</td>\n",
       "      <td>0.048272</td>\n",
       "      <td>1.000000</td>\n",
       "      <td>0.361466</td>\n",
       "    </tr>\n",
       "    <tr>\n",
       "      <th>Fibre</th>\n",
       "      <td>0.043823</td>\n",
       "      <td>0.068079</td>\n",
       "      <td>0.361466</td>\n",
       "      <td>1.000000</td>\n",
       "    </tr>\n",
       "  </tbody>\n",
       "</table>\n",
       "</div>"
      ],
      "text/plain": [
       "           Protein       Fat  vitaminC     Fibre\n",
       "Protein   1.000000  0.382312  0.025389  0.043823\n",
       "Fat       0.382312  1.000000  0.048272  0.068079\n",
       "vitaminC  0.025389  0.048272  1.000000  0.361466\n",
       "Fibre     0.043823  0.068079  0.361466  1.000000"
      ]
     },
     "execution_count": 201,
     "metadata": {},
     "output_type": "execute_result"
    }
   ],
   "source": [
    "df.corr()"
   ]
  },
  {
   "cell_type": "code",
   "execution_count": 202,
   "id": "7d698920",
   "metadata": {},
   "outputs": [],
   "source": [
    "from sklearn.preprocessing import MinMaxScaler,StandardScaler\n",
    "scaler=StandardScaler()\n",
    "DF=scaler.fit_transform(df)"
   ]
  },
  {
   "cell_type": "code",
   "execution_count": 111,
   "id": "d5226b89",
   "metadata": {},
   "outputs": [
    {
     "data": {
      "image/png": "[encoded data removed]",
      "text/plain": [
       "<Figure size 640x480 with 1 Axes>"
      ]
     },
     "metadata": {},
     "output_type": "display_data"
    }
   ],
   "source": [
    "import scipy.cluster.hierarchy as shc  \n",
    "dendro = shc.dendrogram(shc.linkage(df, method=\"ward\"))  \n",
    "plt.title(\"Dendrogrma Plot\")    \n",
    "plt.show() "
   ]
  },
  {
   "cell_type": "code",
   "execution_count": 112,
   "id": "ef4b7734",
   "metadata": {},
   "outputs": [
    {
     "name": "stdout",
     "output_type": "stream",
     "text": [
      "Silhouette Score for ward linkage: 0.20751664009284115\n",
      "Silhouette Score for complete linkage: 0.18358482947312946\n",
      "Silhouette Score for average linkage: 0.4800733568418761\n",
      "Silhouette Score for single linkage: 0.4981063242203874\n"
     ]
    }
   ],
   "source": [
    "from scipy.cluster.hierarchy import linkage, dendrogram, fcluster\n",
    "from sklearn.metrics import silhouette_score\n",
    "\n",
    "#different linkage methods\n",
    "methods = ['ward', 'complete', 'average', 'single']\n",
    "\n",
    "for method in methods:\n",
    "    Z = linkage(DF, method=method)\n",
    "    clusters = fcluster(Z, t=3, criterion='maxclust')\n",
    "    silhouette_avg = silhouette_score(DF, clusters)\n",
    "    print(f'Silhouette Score for {method} linkage: {silhouette_avg}')\n"
   ]
  },
  {
   "cell_type": "code",
   "execution_count": 113,
   "id": "614de28c",
   "metadata": {},
   "outputs": [
    {
     "name": "stdout",
     "output_type": "stream",
     "text": [
      "Silhouette Score for 2 clusters: 0.5019044175673079\n",
      "Silhouette Score for 3 clusters: 0.4981063242203874\n",
      "Silhouette Score for 4 clusters: 0.4902742690626224\n",
      "Silhouette Score for 5 clusters: 0.40656966844998305\n",
      "Silhouette Score for 6 clusters: 0.4019932087993399\n",
      "Silhouette Score for 7 clusters: 0.388739407058724\n",
      "Silhouette Score for 8 clusters: 0.3842361406066378\n",
      "Silhouette Score for 9 clusters: 0.3746383272580705\n"
     ]
    }
   ],
   "source": [
    "# different numbers of clusters\n",
    "for num_clusters in range(2, 10):\n",
    "    Z = linkage(DF, method='single')\n",
    "    clusters = fcluster(Z, t=num_clusters, criterion='maxclust')\n",
    "    silhouette_avg = silhouette_score(DF, clusters)\n",
    "    print(f'Silhouette Score for {num_clusters} clusters: {silhouette_avg}')\n"
   ]
  },
  {
   "cell_type": "code",
   "execution_count": 114,
   "id": "36d240fb",
   "metadata": {},
   "outputs": [
    {
     "name": "stdout",
     "output_type": "stream",
     "text": [
      "Silhouette Score for euclidean distance metric: 0.5019044175673079\n",
      "Silhouette Score for cityblock distance metric: 0.5019044175673079\n",
      "Silhouette Score for cosine distance metric: -0.10343614406807757\n"
     ]
    }
   ],
   "source": [
    "#  different distance metrics\n",
    "metrics = ['euclidean', 'cityblock', 'cosine']\n",
    "\n",
    "for metric in metrics:\n",
    "    Z = linkage(DF, method='single', metric=metric)\n",
    "    clusters = fcluster(Z, t=2, criterion='maxclust')\n",
    "    silhouette_avg = silhouette_score(DF, clusters)\n",
    "    print(f'Silhouette Score for {metric} distance metric: {silhouette_avg}')\n"
   ]
  },
  {
   "cell_type": "code",
   "execution_count": 115,
   "id": "2d0105a3",
   "metadata": {},
   "outputs": [
    {
     "name": "stdout",
     "output_type": "stream",
     "text": [
      "Silhouette Score for single linkage and cityblock distance metric: 0.5019044175673079\n"
     ]
    }
   ],
   "source": [
    "Z1 = linkage(DF, method='single', metric='cityblock')\n",
    "clusters = fcluster(Z1, t=2, criterion='maxclust')\n",
    "silhouette_avg = silhouette_score(DF, clusters)\n",
    "print(f'Silhouette Score for single linkage and cityblock distance metric: {silhouette_avg}')"
   ]
  },
  {
   "cell_type": "code",
   "execution_count": 116,
   "id": "e788c28a",
   "metadata": {},
   "outputs": [],
   "source": [
    "headers = ['Protein', 'Fat', 'vitaminC','Fibre']"
   ]
  },
  {
   "cell_type": "code",
   "execution_count": 117,
   "id": "f42b7863",
   "metadata": {},
   "outputs": [],
   "source": [
    "DF = pd.DataFrame(DF,columns=headers)"
   ]
  },
  {
   "cell_type": "code",
   "execution_count": 118,
   "id": "d3cfb8df",
   "metadata": {},
   "outputs": [],
   "source": [
    "DF['Cluster'] = clusters"
   ]
  },
  {
   "cell_type": "code",
   "execution_count": 119,
   "id": "6a26ad5a",
   "metadata": {},
   "outputs": [
    {
     "data": {
      "text/html": [
       "<div>\n",
       "<style scoped>\n",
       "    .dataframe tbody tr th:only-of-type {\n",
       "        vertical-align: middle;\n",
       "    }\n",
       "\n",
       "    .dataframe tbody tr th {\n",
       "        vertical-align: top;\n",
       "    }\n",
       "\n",
       "    .dataframe thead th {\n",
       "        text-align: right;\n",
       "    }\n",
       "</style>\n",
       "<table border=\"1\" class=\"dataframe\">\n",
       "  <thead>\n",
       "    <tr style=\"text-align: right;\">\n",
       "      <th></th>\n",
       "      <th>Protein</th>\n",
       "      <th>Fat</th>\n",
       "      <th>vitaminC</th>\n",
       "      <th>Fibre</th>\n",
       "      <th>Cluster</th>\n",
       "    </tr>\n",
       "  </thead>\n",
       "  <tbody>\n",
       "    <tr>\n",
       "      <th>0</th>\n",
       "      <td>-0.749825</td>\n",
       "      <td>0.426892</td>\n",
       "      <td>0.287212</td>\n",
       "      <td>1.279936</td>\n",
       "      <td>1</td>\n",
       "    </tr>\n",
       "    <tr>\n",
       "      <th>1</th>\n",
       "      <td>2.230835</td>\n",
       "      <td>-0.304578</td>\n",
       "      <td>-0.881972</td>\n",
       "      <td>-0.387079</td>\n",
       "      <td>1</td>\n",
       "    </tr>\n",
       "    <tr>\n",
       "      <th>2</th>\n",
       "      <td>-0.060478</td>\n",
       "      <td>0.451551</td>\n",
       "      <td>2.450659</td>\n",
       "      <td>1.729280</td>\n",
       "      <td>1</td>\n",
       "    </tr>\n",
       "    <tr>\n",
       "      <th>3</th>\n",
       "      <td>-0.330121</td>\n",
       "      <td>-0.508314</td>\n",
       "      <td>-1.008903</td>\n",
       "      <td>-0.848201</td>\n",
       "      <td>1</td>\n",
       "    </tr>\n",
       "    <tr>\n",
       "      <th>4</th>\n",
       "      <td>-1.259850</td>\n",
       "      <td>-0.560451</td>\n",
       "      <td>-1.255896</td>\n",
       "      <td>-0.548145</td>\n",
       "      <td>1</td>\n",
       "    </tr>\n",
       "  </tbody>\n",
       "</table>\n",
       "</div>"
      ],
      "text/plain": [
       "    Protein       Fat  vitaminC     Fibre  Cluster\n",
       "0 -0.749825  0.426892  0.287212  1.279936        1\n",
       "1  2.230835 -0.304578 -0.881972 -0.387079        1\n",
       "2 -0.060478  0.451551  2.450659  1.729280        1\n",
       "3 -0.330121 -0.508314 -1.008903 -0.848201        1\n",
       "4 -1.259850 -0.560451 -1.255896 -0.548145        1"
      ]
     },
     "execution_count": 119,
     "metadata": {},
     "output_type": "execute_result"
    }
   ],
   "source": [
    "DF.head()"
   ]
  },
  {
   "cell_type": "code",
   "execution_count": 120,
   "id": "830e6517",
   "metadata": {},
   "outputs": [
    {
     "data": {
      "text/plain": [
       "Index(['Protein', 'Fat', 'vitaminC', 'Fibre', 'Cluster'], dtype='object')"
      ]
     },
     "execution_count": 120,
     "metadata": {},
     "output_type": "execute_result"
    }
   ],
   "source": [
    "DF.columns"
   ]
  },
  {
   "cell_type": "code",
   "execution_count": 121,
   "id": "6ef90702",
   "metadata": {},
   "outputs": [
    {
     "data": {
      "text/plain": [
       "Cluster\n",
       "1    1745\n",
       "2       1\n",
       "Name: count, dtype: int64"
      ]
     },
     "execution_count": 121,
     "metadata": {},
     "output_type": "execute_result"
    }
   ],
   "source": [
    "DF['Cluster'].value_counts()"
   ]
  },
  {
   "cell_type": "code",
   "execution_count": 58,
   "id": "be94ff1f",
   "metadata": {},
   "outputs": [
    {
     "name": "stdout",
     "output_type": "stream",
     "text": [
      "          Protein       Fat  vitaminC     Fibre\n",
      "Cluster                                        \n",
      "1        0.000112 -0.002509  0.000385 -0.001487\n",
      "2       -0.194791  4.377637 -0.671407  2.595249\n"
     ]
    }
   ],
   "source": [
    "cluster_means = DF.groupby('Cluster').mean()\n",
    "print(cluster_means)"
   ]
  },
  {
   "cell_type": "markdown",
   "id": "4d34ebe7",
   "metadata": {},
   "source": [
    "After PCA"
   ]
  },
  {
   "cell_type": "code",
   "execution_count": 59,
   "id": "c5990824",
   "metadata": {},
   "outputs": [
    {
     "data": {
      "text/plain": [
       "Index(['Protein', 'Fat', 'vitaminC', 'Fibre', 'Cluster'], dtype='object')"
      ]
     },
     "execution_count": 59,
     "metadata": {},
     "output_type": "execute_result"
    }
   ],
   "source": [
    "DF.columns"
   ]
  },
  {
   "cell_type": "code",
   "execution_count": 65,
   "id": "149e7cb3",
   "metadata": {},
   "outputs": [],
   "source": [
    "from sklearn.decomposition import PCA\n",
    "pca = PCA(n_components=2)\n",
    "reduced_features = pca.fit_transform(DF[['Protein', 'Fat', 'vitaminC', 'Fibre']])\n",
    "reduced_df = pd.DataFrame(reduced_features, columns=['PC1', 'PC2'])"
   ]
  },
  {
   "cell_type": "code",
   "execution_count": 66,
   "id": "ca66501f",
   "metadata": {},
   "outputs": [
    {
     "data": {
      "text/html": [
       "<div>\n",
       "<style scoped>\n",
       "    .dataframe tbody tr th:only-of-type {\n",
       "        vertical-align: middle;\n",
       "    }\n",
       "\n",
       "    .dataframe tbody tr th {\n",
       "        vertical-align: top;\n",
       "    }\n",
       "\n",
       "    .dataframe thead th {\n",
       "        text-align: right;\n",
       "    }\n",
       "</style>\n",
       "<table border=\"1\" class=\"dataframe\">\n",
       "  <thead>\n",
       "    <tr style=\"text-align: right;\">\n",
       "      <th></th>\n",
       "      <th>PC1</th>\n",
       "      <th>PC2</th>\n",
       "    </tr>\n",
       "  </thead>\n",
       "  <tbody>\n",
       "    <tr>\n",
       "      <th>0</th>\n",
       "      <td>0.596200</td>\n",
       "      <td>-0.985509</td>\n",
       "    </tr>\n",
       "    <tr>\n",
       "      <th>1</th>\n",
       "      <td>0.389166</td>\n",
       "      <td>1.630697</td>\n",
       "    </tr>\n",
       "    <tr>\n",
       "      <th>2</th>\n",
       "      <td>2.174395</td>\n",
       "      <td>-2.036304</td>\n",
       "    </tr>\n",
       "    <tr>\n",
       "      <th>3</th>\n",
       "      <td>-1.317475</td>\n",
       "      <td>0.588217</td>\n",
       "    </tr>\n",
       "    <tr>\n",
       "      <th>4</th>\n",
       "      <td>-1.791470</td>\n",
       "      <td>0.088675</td>\n",
       "    </tr>\n",
       "  </tbody>\n",
       "</table>\n",
       "</div>"
      ],
      "text/plain": [
       "        PC1       PC2\n",
       "0  0.596200 -0.985509\n",
       "1  0.389166  1.630697\n",
       "2  2.174395 -2.036304\n",
       "3 -1.317475  0.588217\n",
       "4 -1.791470  0.088675"
      ]
     },
     "execution_count": 66,
     "metadata": {},
     "output_type": "execute_result"
    }
   ],
   "source": [
    "reduced_df.head()"
   ]
  },
  {
   "cell_type": "code",
   "execution_count": 67,
   "id": "96db77f7",
   "metadata": {},
   "outputs": [
    {
     "name": "stdout",
     "output_type": "stream",
     "text": [
      "Silhouette Score for single linkage and cityblock distance metric: 0.6973932424142872\n"
     ]
    }
   ],
   "source": [
    "Z2 = linkage(reduced_df, method='single', metric='cityblock')\n",
    "clusters1 = fcluster(Z2, t=2, criterion='maxclust')\n",
    "silhouette_avg = silhouette_score(reduced_df, clusters1)\n",
    "print(f'Silhouette Score for single linkage and cityblock distance metric: {silhouette_avg}')"
   ]
  },
  {
   "cell_type": "code",
   "execution_count": 69,
   "id": "718e3a6c",
   "metadata": {},
   "outputs": [],
   "source": [
    "reduced_df['Cluster'] = clusters1"
   ]
  },
  {
   "cell_type": "code",
   "execution_count": 72,
   "id": "cc513ee2",
   "metadata": {},
   "outputs": [
    {
     "data": {
      "text/html": [
       "<div>\n",
       "<style scoped>\n",
       "    .dataframe tbody tr th:only-of-type {\n",
       "        vertical-align: middle;\n",
       "    }\n",
       "\n",
       "    .dataframe tbody tr th {\n",
       "        vertical-align: top;\n",
       "    }\n",
       "\n",
       "    .dataframe thead th {\n",
       "        text-align: right;\n",
       "    }\n",
       "</style>\n",
       "<table border=\"1\" class=\"dataframe\">\n",
       "  <thead>\n",
       "    <tr style=\"text-align: right;\">\n",
       "      <th></th>\n",
       "      <th>PC1</th>\n",
       "      <th>PC2</th>\n",
       "      <th>Cluster</th>\n",
       "    </tr>\n",
       "  </thead>\n",
       "  <tbody>\n",
       "    <tr>\n",
       "      <th>0</th>\n",
       "      <td>0.596200</td>\n",
       "      <td>-0.985509</td>\n",
       "      <td>1</td>\n",
       "    </tr>\n",
       "    <tr>\n",
       "      <th>1</th>\n",
       "      <td>0.389166</td>\n",
       "      <td>1.630697</td>\n",
       "      <td>1</td>\n",
       "    </tr>\n",
       "    <tr>\n",
       "      <th>2</th>\n",
       "      <td>2.174395</td>\n",
       "      <td>-2.036304</td>\n",
       "      <td>1</td>\n",
       "    </tr>\n",
       "    <tr>\n",
       "      <th>3</th>\n",
       "      <td>-1.317475</td>\n",
       "      <td>0.588217</td>\n",
       "      <td>1</td>\n",
       "    </tr>\n",
       "    <tr>\n",
       "      <th>4</th>\n",
       "      <td>-1.791470</td>\n",
       "      <td>0.088675</td>\n",
       "      <td>1</td>\n",
       "    </tr>\n",
       "  </tbody>\n",
       "</table>\n",
       "</div>"
      ],
      "text/plain": [
       "        PC1       PC2  Cluster\n",
       "0  0.596200 -0.985509        1\n",
       "1  0.389166  1.630697        1\n",
       "2  2.174395 -2.036304        1\n",
       "3 -1.317475  0.588217        1\n",
       "4 -1.791470  0.088675        1"
      ]
     },
     "execution_count": 72,
     "metadata": {},
     "output_type": "execute_result"
    }
   ],
   "source": [
    "reduced_df.head()"
   ]
  },
  {
   "cell_type": "code",
   "execution_count": 75,
   "id": "99796dd3",
   "metadata": {},
   "outputs": [
    {
     "data": {
      "text/plain": [
       "Cluster\n",
       "1    1745\n",
       "2       1\n",
       "Name: count, dtype: int64"
      ]
     },
     "execution_count": 75,
     "metadata": {},
     "output_type": "execute_result"
    }
   ],
   "source": [
    "reduced_df['Cluster'].value_counts()"
   ]
  },
  {
   "cell_type": "code",
   "execution_count": 74,
   "id": "9a021831",
   "metadata": {},
   "outputs": [
    {
     "data": {
      "image/png": "[encoded data removed]",
      "text/plain": [
       "<Figure size 640x480 with 1 Axes>"
      ]
     },
     "metadata": {},
     "output_type": "display_data"
    }
   ],
   "source": [
    "plt.scatter(reduced_df[reduced_df['Cluster'] == 0]['PC1'], reduced_df[reduced_df['Cluster'] == 0]['PC2'], s=100, c='blue', label='Cluster 1')\n",
    "plt.scatter(reduced_df[reduced_df['Cluster'] == 1]['PC1'], reduced_df[reduced_df['Cluster'] == 1]['PC2'], s=100, c='green', label='Cluster 2')\n",
    "plt.title(\"Cluster Analysis\")\n",
    "plt.legend()\n",
    "plt.show()\n"
   ]
  },
  {
   "cell_type": "markdown",
   "id": "a0a24a96",
   "metadata": {},
   "source": [
    "#kmeansclustering"
   ]
  },
  {
   "cell_type": "code",
   "execution_count": 221,
   "id": "4af422c5",
   "metadata": {},
   "outputs": [
    {
     "name": "stderr",
     "output_type": "stream",
     "text": [
      "C:\\Users\\boina\\anaconda3\\Lib\\site-packages\\sklearn\\cluster\\_kmeans.py:1416: FutureWarning: The default value of `n_init` will change from 10 to 'auto' in 1.4. Set the value of `n_init` explicitly to suppress the warning\n",
      "  super()._check_params_vs_input(X, default_n_init=10)\n",
      "C:\\Users\\boina\\anaconda3\\Lib\\site-packages\\sklearn\\cluster\\_kmeans.py:1416: FutureWarning: The default value of `n_init` will change from 10 to 'auto' in 1.4. Set the value of `n_init` explicitly to suppress the warning\n",
      "  super()._check_params_vs_input(X, default_n_init=10)\n",
      "C:\\Users\\boina\\anaconda3\\Lib\\site-packages\\sklearn\\cluster\\_kmeans.py:1416: FutureWarning: The default value of `n_init` will change from 10 to 'auto' in 1.4. Set the value of `n_init` explicitly to suppress the warning\n",
      "  super()._check_params_vs_input(X, default_n_init=10)\n",
      "C:\\Users\\boina\\anaconda3\\Lib\\site-packages\\sklearn\\cluster\\_kmeans.py:1416: FutureWarning: The default value of `n_init` will change from 10 to 'auto' in 1.4. Set the value of `n_init` explicitly to suppress the warning\n",
      "  super()._check_params_vs_input(X, default_n_init=10)\n",
      "C:\\Users\\boina\\anaconda3\\Lib\\site-packages\\sklearn\\cluster\\_kmeans.py:1416: FutureWarning: The default value of `n_init` will change from 10 to 'auto' in 1.4. Set the value of `n_init` explicitly to suppress the warning\n",
      "  super()._check_params_vs_input(X, default_n_init=10)\n",
      "C:\\Users\\boina\\anaconda3\\Lib\\site-packages\\sklearn\\cluster\\_kmeans.py:1416: FutureWarning: The default value of `n_init` will change from 10 to 'auto' in 1.4. Set the value of `n_init` explicitly to suppress the warning\n",
      "  super()._check_params_vs_input(X, default_n_init=10)\n",
      "C:\\Users\\boina\\anaconda3\\Lib\\site-packages\\sklearn\\cluster\\_kmeans.py:1416: FutureWarning: The default value of `n_init` will change from 10 to 'auto' in 1.4. Set the value of `n_init` explicitly to suppress the warning\n",
      "  super()._check_params_vs_input(X, default_n_init=10)\n",
      "C:\\Users\\boina\\anaconda3\\Lib\\site-packages\\sklearn\\cluster\\_kmeans.py:1416: FutureWarning: The default value of `n_init` will change from 10 to 'auto' in 1.4. Set the value of `n_init` explicitly to suppress the warning\n",
      "  super()._check_params_vs_input(X, default_n_init=10)\n",
      "C:\\Users\\boina\\anaconda3\\Lib\\site-packages\\sklearn\\cluster\\_kmeans.py:1416: FutureWarning: The default value of `n_init` will change from 10 to 'auto' in 1.4. Set the value of `n_init` explicitly to suppress the warning\n",
      "  super()._check_params_vs_input(X, default_n_init=10)\n",
      "C:\\Users\\boina\\anaconda3\\Lib\\site-packages\\sklearn\\cluster\\_kmeans.py:1416: FutureWarning: The default value of `n_init` will change from 10 to 'auto' in 1.4. Set the value of `n_init` explicitly to suppress the warning\n",
      "  super()._check_params_vs_input(X, default_n_init=10)\n"
     ]
    },
    {
     "data": {
      "image/png": "[encoded data removed]",
      "text/plain": [
       "<Figure size 640x480 with 1 Axes>"
      ]
     },
     "metadata": {},
     "output_type": "display_data"
    }
   ],
   "source": [
    "from sklearn.cluster import KMeans  \n",
    "wcss_list= []  #Initializing the list for the values of WCSS  \n",
    "  \n",
    "#Using for loop for iterations from 1 to 10.  \n",
    "for i in range(1, 11):  \n",
    "    kmeans = KMeans(n_clusters=i, init='k-means++', random_state= 42)  \n",
    "    kmeans.fit(df)  \n",
    "    wcss_list.append(kmeans.inertia_)  \n",
    "plt.plot(range(1, 11), wcss_list)  \n",
    "plt.title('The Elobw Method Graph')  \n",
    "plt.xlabel('Number of clusters(k)')  \n",
    "plt.ylabel('wcss_list')  \n",
    "plt.show() "
   ]
  },
  {
   "cell_type": "code",
   "execution_count": 237,
   "id": "82a8ce7c",
   "metadata": {},
   "outputs": [
    {
     "data": {
      "text/html": [
       "<div>\n",
       "<style scoped>\n",
       "    .dataframe tbody tr th:only-of-type {\n",
       "        vertical-align: middle;\n",
       "    }\n",
       "\n",
       "    .dataframe tbody tr th {\n",
       "        vertical-align: top;\n",
       "    }\n",
       "\n",
       "    .dataframe thead th {\n",
       "        text-align: right;\n",
       "    }\n",
       "</style>\n",
       "<table border=\"1\" class=\"dataframe\">\n",
       "  <thead>\n",
       "    <tr style=\"text-align: right;\">\n",
       "      <th></th>\n",
       "      <th>Protein</th>\n",
       "      <th>Fat</th>\n",
       "      <th>vitaminC</th>\n",
       "      <th>Fibre</th>\n",
       "    </tr>\n",
       "  </thead>\n",
       "  <tbody>\n",
       "    <tr>\n",
       "      <th>0</th>\n",
       "      <td>0.452369</td>\n",
       "      <td>1.170926</td>\n",
       "      <td>1.079271</td>\n",
       "      <td>1.702960</td>\n",
       "    </tr>\n",
       "    <tr>\n",
       "      <th>1</th>\n",
       "      <td>2.321087</td>\n",
       "      <td>0.706856</td>\n",
       "      <td>0.350088</td>\n",
       "      <td>0.658249</td>\n",
       "    </tr>\n",
       "    <tr>\n",
       "      <th>2</th>\n",
       "      <td>0.884554</td>\n",
       "      <td>1.186571</td>\n",
       "      <td>2.428544</td>\n",
       "      <td>1.984562</td>\n",
       "    </tr>\n",
       "    <tr>\n",
       "      <th>3</th>\n",
       "      <td>0.715501</td>\n",
       "      <td>0.577599</td>\n",
       "      <td>0.270925</td>\n",
       "      <td>0.369266</td>\n",
       "    </tr>\n",
       "    <tr>\n",
       "      <th>4</th>\n",
       "      <td>0.132610</td>\n",
       "      <td>0.544521</td>\n",
       "      <td>0.116884</td>\n",
       "      <td>0.557309</td>\n",
       "    </tr>\n",
       "  </tbody>\n",
       "</table>\n",
       "</div>"
      ],
      "text/plain": [
       "    Protein       Fat  vitaminC     Fibre\n",
       "0  0.452369  1.170926  1.079271  1.702960\n",
       "1  2.321087  0.706856  0.350088  0.658249\n",
       "2  0.884554  1.186571  2.428544  1.984562\n",
       "3  0.715501  0.577599  0.270925  0.369266\n",
       "4  0.132610  0.544521  0.116884  0.557309"
      ]
     },
     "execution_count": 237,
     "metadata": {},
     "output_type": "execute_result"
    }
   ],
   "source": [
    "df.head()"
   ]
  },
  {
   "cell_type": "code",
   "execution_count": 238,
   "id": "c02cd6db",
   "metadata": {},
   "outputs": [],
   "source": [
    "X=scaler.fit_transform(df)"
   ]
  },
  {
   "cell_type": "code",
   "execution_count": 239,
   "id": "caa59741",
   "metadata": {},
   "outputs": [
    {
     "name": "stderr",
     "output_type": "stream",
     "text": [
      "C:\\Users\\boina\\anaconda3\\Lib\\site-packages\\sklearn\\cluster\\_kmeans.py:1416: FutureWarning: The default value of `n_init` will change from 10 to 'auto' in 1.4. Set the value of `n_init` explicitly to suppress the warning\n",
      "  super()._check_params_vs_input(X, default_n_init=10)\n"
     ]
    },
    {
     "data": {
      "text/html": [
       "<style>#sk-container-id-9 {color: black;}#sk-container-id-9 pre{padding: 0;}#sk-container-id-9 div.sk-toggleable {background-color: white;}#sk-container-id-9 label.sk-toggleable__label {cursor: pointer;display: block;width: 100%;margin-bottom: 0;padding: 0.3em;box-sizing: border-box;text-align: center;}#sk-container-id-9 label.sk-toggleable__label-arrow:before {content: \"▸\";float: left;margin-right: 0.25em;color: #696969;}#sk-container-id-9 label.sk-toggleable__label-arrow:hover:before {color: black;}#sk-container-id-9 div.sk-estimator:hover label.sk-toggleable__label-arrow:before {color: black;}#sk-container-id-9 div.sk-toggleable__content {max-height: 0;max-width: 0;overflow: hidden;text-align: left;background-color: #f0f8ff;}#sk-container-id-9 div.sk-toggleable__content pre {margin: 0.2em;color: black;border-radius: 0.25em;background-color: #f0f8ff;}#sk-container-id-9 input.sk-toggleable__control:checked~div.sk-toggleable__content {max-height: 200px;max-width: 100%;overflow: auto;}#sk-container-id-9 input.sk-toggleable__control:checked~label.sk-toggleable__label-arrow:before {content: \"▾\";}#sk-container-id-9 div.sk-estimator input.sk-toggleable__control:checked~label.sk-toggleable__label {background-color: #d4ebff;}#sk-container-id-9 div.sk-label input.sk-toggleable__control:checked~label.sk-toggleable__label {background-color: #d4ebff;}#sk-container-id-9 input.sk-hidden--visually {border: 0;clip: rect(1px 1px 1px 1px);clip: rect(1px, 1px, 1px, 1px);height: 1px;margin: -1px;overflow: hidden;padding: 0;position: absolute;width: 1px;}#sk-container-id-9 div.sk-estimator {font-family: monospace;background-color: #f0f8ff;border: 1px dotted black;border-radius: 0.25em;box-sizing: border-box;margin-bottom: 0.5em;}#sk-container-id-9 div.sk-estimator:hover {background-color: #d4ebff;}#sk-container-id-9 div.sk-parallel-item::after {content: \"\";width: 100%;border-bottom: 1px solid gray;flex-grow: 1;}#sk-container-id-9 div.sk-label:hover label.sk-toggleable__label {background-color: #d4ebff;}#sk-container-id-9 div.sk-serial::before {content: \"\";position: absolute;border-left: 1px solid gray;box-sizing: border-box;top: 0;bottom: 0;left: 50%;z-index: 0;}#sk-container-id-9 div.sk-serial {display: flex;flex-direction: column;align-items: center;background-color: white;padding-right: 0.2em;padding-left: 0.2em;position: relative;}#sk-container-id-9 div.sk-item {position: relative;z-index: 1;}#sk-container-id-9 div.sk-parallel {display: flex;align-items: stretch;justify-content: center;background-color: white;position: relative;}#sk-container-id-9 div.sk-item::before, #sk-container-id-9 div.sk-parallel-item::before {content: \"\";position: absolute;border-left: 1px solid gray;box-sizing: border-box;top: 0;bottom: 0;left: 50%;z-index: -1;}#sk-container-id-9 div.sk-parallel-item {display: flex;flex-direction: column;z-index: 1;position: relative;background-color: white;}#sk-container-id-9 div.sk-parallel-item:first-child::after {align-self: flex-end;width: 50%;}#sk-container-id-9 div.sk-parallel-item:last-child::after {align-self: flex-start;width: 50%;}#sk-container-id-9 div.sk-parallel-item:only-child::after {width: 0;}#sk-container-id-9 div.sk-dashed-wrapped {border: 1px dashed gray;margin: 0 0.4em 0.5em 0.4em;box-sizing: border-box;padding-bottom: 0.4em;background-color: white;}#sk-container-id-9 div.sk-label label {font-family: monospace;font-weight: bold;display: inline-block;line-height: 1.2em;}#sk-container-id-9 div.sk-label-container {text-align: center;}#sk-container-id-9 div.sk-container {/* jupyter's `normalize.less` sets `[hidden] { display: none; }` but bootstrap.min.css set `[hidden] { display: none !important; }` so we also need the `!important` here to be able to override the default hidden behavior on the sphinx rendered scikit-learn.org. See: https://github.com/scikit-learn/scikit-learn/issues/21755 */display: inline-block !important;position: relative;}#sk-container-id-9 div.sk-text-repr-fallback {display: none;}</style><div id=\"sk-container-id-9\" class=\"sk-top-container\"><div class=\"sk-text-repr-fallback\"><pre>KMeans(n_clusters=3, random_state=42)</pre><b>In a Jupyter environment, please rerun this cell to show the HTML representation or trust the notebook. <br />On GitHub, the HTML representation is unable to render, please try loading this page with nbviewer.org.</b></div><div class=\"sk-container\" hidden><div class=\"sk-item\"><div class=\"sk-estimator sk-toggleable\"><input class=\"sk-toggleable__control sk-hidden--visually\" id=\"sk-estimator-id-9\" type=\"checkbox\" checked><label for=\"sk-estimator-id-9\" class=\"sk-toggleable__label sk-toggleable__label-arrow\">KMeans</label><div class=\"sk-toggleable__content\"><pre>KMeans(n_clusters=3, random_state=42)</pre></div></div></div></div></div>"
      ],
      "text/plain": [
       "KMeans(n_clusters=3, random_state=42)"
      ]
     },
     "execution_count": 239,
     "metadata": {},
     "output_type": "execute_result"
    }
   ],
   "source": [
    "kmeans = KMeans(n_clusters=3, random_state=42) \n",
    "kmeans.fit(X)"
   ]
  },
  {
   "cell_type": "code",
   "execution_count": 241,
   "id": "9ed6fa1f",
   "metadata": {},
   "outputs": [],
   "source": [
    "cluster_assignments = kmeans.labels_"
   ]
  },
  {
   "cell_type": "code",
   "execution_count": 243,
   "id": "244fe512",
   "metadata": {},
   "outputs": [
    {
     "data": {
      "text/plain": [
       "array([2, 1, 2, ..., 0, 1, 1])"
      ]
     },
     "execution_count": 243,
     "metadata": {},
     "output_type": "execute_result"
    }
   ],
   "source": [
    "cluster_assignments"
   ]
  },
  {
   "cell_type": "code",
   "execution_count": 245,
   "id": "e4590374",
   "metadata": {},
   "outputs": [],
   "source": [
    "df['cluster']=cluster_assignments"
   ]
  },
  {
   "cell_type": "code",
   "execution_count": 246,
   "id": "7cef75ca",
   "metadata": {},
   "outputs": [
    {
     "data": {
      "text/html": [
       "<div>\n",
       "<style scoped>\n",
       "    .dataframe tbody tr th:only-of-type {\n",
       "        vertical-align: middle;\n",
       "    }\n",
       "\n",
       "    .dataframe tbody tr th {\n",
       "        vertical-align: top;\n",
       "    }\n",
       "\n",
       "    .dataframe thead th {\n",
       "        text-align: right;\n",
       "    }\n",
       "</style>\n",
       "<table border=\"1\" class=\"dataframe\">\n",
       "  <thead>\n",
       "    <tr style=\"text-align: right;\">\n",
       "      <th></th>\n",
       "      <th>Protein</th>\n",
       "      <th>Fat</th>\n",
       "      <th>vitaminC</th>\n",
       "      <th>Fibre</th>\n",
       "      <th>cluster</th>\n",
       "    </tr>\n",
       "  </thead>\n",
       "  <tbody>\n",
       "    <tr>\n",
       "      <th>0</th>\n",
       "      <td>0.452369</td>\n",
       "      <td>1.170926</td>\n",
       "      <td>1.079271</td>\n",
       "      <td>1.702960</td>\n",
       "      <td>2</td>\n",
       "    </tr>\n",
       "    <tr>\n",
       "      <th>1</th>\n",
       "      <td>2.321087</td>\n",
       "      <td>0.706856</td>\n",
       "      <td>0.350088</td>\n",
       "      <td>0.658249</td>\n",
       "      <td>1</td>\n",
       "    </tr>\n",
       "    <tr>\n",
       "      <th>2</th>\n",
       "      <td>0.884554</td>\n",
       "      <td>1.186571</td>\n",
       "      <td>2.428544</td>\n",
       "      <td>1.984562</td>\n",
       "      <td>2</td>\n",
       "    </tr>\n",
       "    <tr>\n",
       "      <th>3</th>\n",
       "      <td>0.715501</td>\n",
       "      <td>0.577599</td>\n",
       "      <td>0.270925</td>\n",
       "      <td>0.369266</td>\n",
       "      <td>0</td>\n",
       "    </tr>\n",
       "    <tr>\n",
       "      <th>4</th>\n",
       "      <td>0.132610</td>\n",
       "      <td>0.544521</td>\n",
       "      <td>0.116884</td>\n",
       "      <td>0.557309</td>\n",
       "      <td>0</td>\n",
       "    </tr>\n",
       "  </tbody>\n",
       "</table>\n",
       "</div>"
      ],
      "text/plain": [
       "    Protein       Fat  vitaminC     Fibre  cluster\n",
       "0  0.452369  1.170926  1.079271  1.702960        2\n",
       "1  2.321087  0.706856  0.350088  0.658249        1\n",
       "2  0.884554  1.186571  2.428544  1.984562        2\n",
       "3  0.715501  0.577599  0.270925  0.369266        0\n",
       "4  0.132610  0.544521  0.116884  0.557309        0"
      ]
     },
     "execution_count": 246,
     "metadata": {},
     "output_type": "execute_result"
    }
   ],
   "source": [
    "df.head()"
   ]
  },
  {
   "cell_type": "code",
   "execution_count": 210,
   "id": "3e20ffc8",
   "metadata": {},
   "outputs": [
    {
     "data": {
      "text/plain": [
       "<matplotlib.legend.Legend at 0x15014046ad0>"
      ]
     },
     "execution_count": 210,
     "metadata": {},
     "output_type": "execute_result"
    },
    {
     "data": {
      "image/png": "[encoded data removed]",
      "text/plain": [
       "<Figure size 640x480 with 1 Axes>"
      ]
     },
     "metadata": {},
     "output_type": "display_data"
    }
   ],
   "source": [
    "plt.scatter(X[cluster_assignments == 0, 0], X[cluster_assignments == 0, 1], s = 100, c = 'blue', label = 'Cluster 0')  \n",
    "plt.scatter(X[cluster_assignments == 1, 0], X[cluster_assignments == 1, 1], s = 100, c = 'green', label = 'Cluster 1')   \n",
    "plt.scatter(X[cluster_assignments == 2, 0], X[cluster_assignments == 2, 1], s = 100, c = 'red', label = 'Cluster 2')   \n",
    "plt.scatter(kmeans.cluster_centers_[:, 0], kmeans.cluster_centers_[:, 1], s = 300, c = 'yellow', label = 'Centroid')\n",
    "plt.title('clusters')\n",
    "plt.legend()"
   ]
  },
  {
   "cell_type": "code",
   "execution_count": 251,
   "id": "5243591b",
   "metadata": {},
   "outputs": [],
   "source": [
    "x=df.drop('cluster',axis=1)\n",
    "y=df['cluster']"
   ]
  },
  {
   "cell_type": "code",
   "execution_count": 252,
   "id": "590323a5",
   "metadata": {},
   "outputs": [],
   "source": [
    "X=scaler.fit_transform(x)"
   ]
  },
  {
   "cell_type": "code",
   "execution_count": 254,
   "id": "368e6cdc",
   "metadata": {},
   "outputs": [],
   "source": [
    "from sklearn.model_selection import train_test_split\n",
    "xtrain,xtest,ytrain,ytest=train_test_split(x,y,test_size=0.3, random_state=42)"
   ]
  },
  {
   "cell_type": "code",
   "execution_count": 255,
   "id": "4ba4f755",
   "metadata": {},
   "outputs": [
    {
     "data": {
      "text/html": [
       "<style>#sk-container-id-10 {color: black;}#sk-container-id-10 pre{padding: 0;}#sk-container-id-10 div.sk-toggleable {background-color: white;}#sk-container-id-10 label.sk-toggleable__label {cursor: pointer;display: block;width: 100%;margin-bottom: 0;padding: 0.3em;box-sizing: border-box;text-align: center;}#sk-container-id-10 label.sk-toggleable__label-arrow:before {content: \"▸\";float: left;margin-right: 0.25em;color: #696969;}#sk-container-id-10 label.sk-toggleable__label-arrow:hover:before {color: black;}#sk-container-id-10 div.sk-estimator:hover label.sk-toggleable__label-arrow:before {color: black;}#sk-container-id-10 div.sk-toggleable__content {max-height: 0;max-width: 0;overflow: hidden;text-align: left;background-color: #f0f8ff;}#sk-container-id-10 div.sk-toggleable__content pre {margin: 0.2em;color: black;border-radius: 0.25em;background-color: #f0f8ff;}#sk-container-id-10 input.sk-toggleable__control:checked~div.sk-toggleable__content {max-height: 200px;max-width: 100%;overflow: auto;}#sk-container-id-10 input.sk-toggleable__control:checked~label.sk-toggleable__label-arrow:before {content: \"▾\";}#sk-container-id-10 div.sk-estimator input.sk-toggleable__control:checked~label.sk-toggleable__label {background-color: #d4ebff;}#sk-container-id-10 div.sk-label input.sk-toggleable__control:checked~label.sk-toggleable__label {background-color: #d4ebff;}#sk-container-id-10 input.sk-hidden--visually {border: 0;clip: rect(1px 1px 1px 1px);clip: rect(1px, 1px, 1px, 1px);height: 1px;margin: -1px;overflow: hidden;padding: 0;position: absolute;width: 1px;}#sk-container-id-10 div.sk-estimator {font-family: monospace;background-color: #f0f8ff;border: 1px dotted black;border-radius: 0.25em;box-sizing: border-box;margin-bottom: 0.5em;}#sk-container-id-10 div.sk-estimator:hover {background-color: #d4ebff;}#sk-container-id-10 div.sk-parallel-item::after {content: \"\";width: 100%;border-bottom: 1px solid gray;flex-grow: 1;}#sk-container-id-10 div.sk-label:hover label.sk-toggleable__label {background-color: #d4ebff;}#sk-container-id-10 div.sk-serial::before {content: \"\";position: absolute;border-left: 1px solid gray;box-sizing: border-box;top: 0;bottom: 0;left: 50%;z-index: 0;}#sk-container-id-10 div.sk-serial {display: flex;flex-direction: column;align-items: center;background-color: white;padding-right: 0.2em;padding-left: 0.2em;position: relative;}#sk-container-id-10 div.sk-item {position: relative;z-index: 1;}#sk-container-id-10 div.sk-parallel {display: flex;align-items: stretch;justify-content: center;background-color: white;position: relative;}#sk-container-id-10 div.sk-item::before, #sk-container-id-10 div.sk-parallel-item::before {content: \"\";position: absolute;border-left: 1px solid gray;box-sizing: border-box;top: 0;bottom: 0;left: 50%;z-index: -1;}#sk-container-id-10 div.sk-parallel-item {display: flex;flex-direction: column;z-index: 1;position: relative;background-color: white;}#sk-container-id-10 div.sk-parallel-item:first-child::after {align-self: flex-end;width: 50%;}#sk-container-id-10 div.sk-parallel-item:last-child::after {align-self: flex-start;width: 50%;}#sk-container-id-10 div.sk-parallel-item:only-child::after {width: 0;}#sk-container-id-10 div.sk-dashed-wrapped {border: 1px dashed gray;margin: 0 0.4em 0.5em 0.4em;box-sizing: border-box;padding-bottom: 0.4em;background-color: white;}#sk-container-id-10 div.sk-label label {font-family: monospace;font-weight: bold;display: inline-block;line-height: 1.2em;}#sk-container-id-10 div.sk-label-container {text-align: center;}#sk-container-id-10 div.sk-container {/* jupyter's `normalize.less` sets `[hidden] { display: none; }` but bootstrap.min.css set `[hidden] { display: none !important; }` so we also need the `!important` here to be able to override the default hidden behavior on the sphinx rendered scikit-learn.org. See: https://github.com/scikit-learn/scikit-learn/issues/21755 */display: inline-block !important;position: relative;}#sk-container-id-10 div.sk-text-repr-fallback {display: none;}</style><div id=\"sk-container-id-10\" class=\"sk-top-container\"><div class=\"sk-text-repr-fallback\"><pre>RandomForestClassifier()</pre><b>In a Jupyter environment, please rerun this cell to show the HTML representation or trust the notebook. <br />On GitHub, the HTML representation is unable to render, please try loading this page with nbviewer.org.</b></div><div class=\"sk-container\" hidden><div class=\"sk-item\"><div class=\"sk-estimator sk-toggleable\"><input class=\"sk-toggleable__control sk-hidden--visually\" id=\"sk-estimator-id-10\" type=\"checkbox\" checked><label for=\"sk-estimator-id-10\" class=\"sk-toggleable__label sk-toggleable__label-arrow\">RandomForestClassifier</label><div class=\"sk-toggleable__content\"><pre>RandomForestClassifier()</pre></div></div></div></div></div>"
      ],
      "text/plain": [
       "RandomForestClassifier()"
      ]
     },
     "execution_count": 255,
     "metadata": {},
     "output_type": "execute_result"
    }
   ],
   "source": [
    "from sklearn.ensemble import RandomForestClassifier\n",
    "rfc=RandomForestClassifier()\n",
    "rfc.fit(xtrain,ytrain)"
   ]
  },
  {
   "cell_type": "code",
   "execution_count": 256,
   "id": "affd7e26",
   "metadata": {},
   "outputs": [],
   "source": [
    "ytestpredr=rfc.predict(xtest)\n",
    "ytrainpredr=rfc.predict(xtrain)"
   ]
  },
  {
   "cell_type": "code",
   "execution_count": 259,
   "id": "5ccbbff0",
   "metadata": {},
   "outputs": [
    {
     "data": {
      "text/plain": [
       "0.9522900763358778"
      ]
     },
     "execution_count": 259,
     "metadata": {},
     "output_type": "execute_result"
    }
   ],
   "source": [
    "from sklearn.metrics import accuracy_score\n",
    "acc_rfc=accuracy_score(ytest, ytestpredr)\n",
    "acc_rfc"
   ]
  },
  {
   "cell_type": "code",
   "execution_count": 263,
   "id": "5c20d96f",
   "metadata": {},
   "outputs": [
    {
     "name": "stdout",
     "output_type": "stream",
     "text": [
      "[2]\n"
     ]
    },
    {
     "name": "stderr",
     "output_type": "stream",
     "text": [
      "C:\\Users\\boina\\anaconda3\\Lib\\site-packages\\sklearn\\base.py:465: UserWarning: X does not have valid feature names, but RandomForestClassifier was fitted with feature names\n",
      "  warnings.warn(\n"
     ]
    }
   ],
   "source": [
    "print(rfc.predict([[0.452369,1.170926,1.079271,1.702960]]))"
   ]
  },
  {
   "cell_type": "code",
   "execution_count": 265,
   "id": "2eed42a4",
   "metadata": {},
   "outputs": [],
   "source": [
    "import pickle\n",
    "pickle.dump(rfc,open(\"rfmodel.pkl\",\"wb\"))"
   ]
  }
 ],
 "metadata": {
  "kernelspec": {
   "display_name": "Python 3 (ipykernel)",
   "language": "python",
   "name": "python3"
  },
  "language_info": {
   "codemirror_mode": {
    "name": "ipython",
    "version": 3
   },
   "file_extension": ".py",
   "mimetype": "text/x-python",
   "name": "python",
   "nbconvert_exporter": "python",
   "pygments_lexer": "ipython3",
   "version": "3.11.5"
  }
 },
 "nbformat": 4,
 "nbformat_minor": 5
}
